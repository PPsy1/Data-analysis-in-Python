{
 "cells": [
  {
   "cell_type": "code",
   "execution_count": 97,
   "metadata": {},
   "outputs": [
    {
     "ename": "SyntaxError",
     "evalue": "unexpected EOF while parsing (<ipython-input-97-4ba460322e55>, line 2)",
     "output_type": "error",
     "traceback": [
      "\u001b[1;36m  File \u001b[1;32m\"<ipython-input-97-4ba460322e55>\"\u001b[1;36m, line \u001b[1;32m2\u001b[0m\n\u001b[1;33m    for i in word:\u001b[0m\n\u001b[1;37m                  ^\u001b[0m\n\u001b[1;31mSyntaxError\u001b[0m\u001b[1;31m:\u001b[0m unexpected EOF while parsing\n"
     ]
    }
   ],
   "source": [
    "def anagram_check(word):\n",
    "    a = []\n",
    "    for i in word:\n",
    "        o = i.upper()\n",
    "        \n",
    "        "
   ]
  },
  {
   "cell_type": "code",
   "execution_count": 136,
   "metadata": {},
   "outputs": [
    {
     "name": "stdout",
     "output_type": "stream",
     "text": [
      "[['god', 'dog'], ['arts', 'star']]\n"
     ]
    }
   ],
   "source": [
    "list_of_words = ['bat', 'Rats', 'god', 'dog', 'cat', 'arts', 'star']\n",
    "words = ['bat', 'Rats', 'god', 'dog', 'cat', 'arts', 'star']\n",
    "\n",
    "words_sort = {}\n",
    "for i in list_of_words:\n",
    "    words_sort[i] = ''.join(sorted(i))\n",
    "anagrams = []\n",
    "for i in range(len(list_of_words)):\n",
    "    anagr = [list_of_words[i]]\n",
    "    for j in range(i + 1, len(list_of_words)):\n",
    "        if words_sort[list_of_words[i]] == words_sort[list_of_words[j]]:\n",
    "            anagr.append(list_of_words[j])\n",
    "    if len(anagr) !=1:\n",
    "        anagrams.append(anagr)\n",
    "print (anagrams)\n",
    "        \n",
    "        \n",
    "# sort_words = {}\n",
    "# for word in words:\n",
    "#     sort_words[word] = ''.join(sorted(word))\n",
    "\n",
    "# print (sort_words)\n",
    "# anagrams = []\n",
    "# for i in range(len(words)):\n",
    "#     ana = [words[i]]\n",
    "#     for j in range(i + 1, len(words)):\n",
    "#         if sort_words[words[i]] == sort_words[words[j]]:\n",
    "#             ana.append(words[j])\n",
    "#     if len(ana) != 1:\n",
    "#         anagrams.append(ana)        "
   ]
  },
  {
   "cell_type": "code",
   "execution_count": 123,
   "metadata": {},
   "outputs": [
    {
     "ename": "TypeError",
     "evalue": "unhashable type: 'list'",
     "output_type": "error",
     "traceback": [
      "\u001b[1;31m---------------------------------------------------------------------------\u001b[0m",
      "\u001b[1;31mTypeError\u001b[0m                                 Traceback (most recent call last)",
      "\u001b[1;32m<ipython-input-123-fd7c772dcc9c>\u001b[0m in \u001b[0;36m<module>\u001b[1;34m()\u001b[0m\n\u001b[0;32m     14\u001b[0m \u001b[1;33m\u001b[0m\u001b[0m\n\u001b[0;32m     15\u001b[0m \u001b[1;33m\u001b[0m\u001b[0m\n\u001b[1;32m---> 16\u001b[1;33m \u001b[0managrams_check\u001b[0m\u001b[1;33m(\u001b[0m\u001b[1;33m[\u001b[0m\u001b[1;34m'cat'\u001b[0m\u001b[1;33m,\u001b[0m\u001b[1;34m'tac'\u001b[0m\u001b[1;33m]\u001b[0m\u001b[1;33m)\u001b[0m\u001b[1;33m\u001b[0m\u001b[0m\n\u001b[0m",
      "\u001b[1;32m<ipython-input-123-fd7c772dcc9c>\u001b[0m in \u001b[0;36managrams_check\u001b[1;34m(list_of_words)\u001b[0m\n\u001b[0;32m      2\u001b[0m     \u001b[0mwords_sort\u001b[0m \u001b[1;33m=\u001b[0m \u001b[1;33m{\u001b[0m\u001b[1;33m}\u001b[0m\u001b[1;33m\u001b[0m\u001b[0m\n\u001b[0;32m      3\u001b[0m     \u001b[1;32mfor\u001b[0m \u001b[0mi\u001b[0m \u001b[1;32min\u001b[0m \u001b[0mlist_of_words\u001b[0m\u001b[1;33m:\u001b[0m\u001b[1;33m\u001b[0m\u001b[0m\n\u001b[1;32m----> 4\u001b[1;33m         \u001b[0mwords_sort\u001b[0m\u001b[1;33m[\u001b[0m\u001b[0mlist_of_words\u001b[0m\u001b[1;33m]\u001b[0m \u001b[1;33m=\u001b[0m \u001b[1;34m''\u001b[0m\u001b[1;33m.\u001b[0m\u001b[0mjoin\u001b[0m\u001b[1;33m(\u001b[0m\u001b[0msorted\u001b[0m\u001b[1;33m(\u001b[0m\u001b[0mlist_of_words\u001b[0m\u001b[1;33m)\u001b[0m\u001b[1;33m)\u001b[0m\u001b[1;33m\u001b[0m\u001b[0m\n\u001b[0m\u001b[0;32m      5\u001b[0m     \u001b[0managrams\u001b[0m \u001b[1;33m=\u001b[0m \u001b[1;33m[\u001b[0m\u001b[1;33m]\u001b[0m\u001b[1;33m\u001b[0m\u001b[0m\n\u001b[0;32m      6\u001b[0m     \u001b[1;32mfor\u001b[0m \u001b[0mi\u001b[0m \u001b[1;32min\u001b[0m \u001b[0mrange\u001b[0m\u001b[1;33m(\u001b[0m\u001b[0mlen\u001b[0m\u001b[1;33m(\u001b[0m\u001b[0mlist_of_words\u001b[0m\u001b[1;33m)\u001b[0m\u001b[1;33m)\u001b[0m\u001b[1;33m:\u001b[0m\u001b[1;33m\u001b[0m\u001b[0m\n",
      "\u001b[1;31mTypeError\u001b[0m: unhashable type: 'list'"
     ]
    }
   ],
   "source": [
    "def anagrams_check(list_of_words):\n",
    "    words_sort = {}\n",
    "    for i in list_of_words:\n",
    "        words_sort[list_of_words] = ''.join(sorted(list_of_words))\n",
    "    anagrams = []\n",
    "    for i in range(len(list_of_words)):\n",
    "        anagr = [list_of_words[i]]\n",
    "        for j in range(i + 1, len(list_of_words)):\n",
    "            if words_sort[list_of_words[i]] == words_sort[list_of_words[j]]:\n",
    "                anagr.append(list_of_words[j])\n",
    "        if len(anagr) !=1:\n",
    "            anagrams.append(anagr)\n",
    "    return anagrams\n",
    "\n",
    "\n",
    "anagrams_check(['cat','tac'])"
   ]
  },
  {
   "cell_type": "code",
   "execution_count": null,
   "metadata": {},
   "outputs": [],
   "source": [
    "def anagrams_check(list_of_words):\n",
    "    "
   ]
  },
  {
   "cell_type": "code",
   "execution_count": 122,
   "metadata": {},
   "outputs": [
    {
     "name": "stdout",
     "output_type": "stream",
     "text": [
      "{'bat': 'abt', 'Rats': 'Rast', 'god': 'dgo', 'dog': 'dgo', 'cat': 'act', 'arts': 'arst', 'star': 'arst'}\n"
     ]
    }
   ],
   "source": [
    "words = ['bat', 'Rats', 'god', 'dog', 'cat', 'arts', 'star']\n",
    "sort_words = {}\n",
    "for word in words:\n",
    "    sort_words[word] = ''.join(sorted(word))\n",
    "\n",
    "print (sort_words)\n",
    "anagrams = []\n",
    "for i in range(len(words)):\n",
    "    ana = [words[i]]\n",
    "    for j in range(i + 1, len(words)):\n",
    "        if sort_words[words[i]] == sort_words[words[j]]:\n",
    "            ana.append(words[j])\n",
    "    if len(ana) != 1:\n",
    "        anagrams.append(ana)\n",
    "\n",
    "#print (anagrams)"
   ]
  },
  {
   "cell_type": "code",
   "execution_count": 101,
   "metadata": {},
   "outputs": [
    {
     "data": {
      "text/plain": [
       "False"
      ]
     },
     "execution_count": 101,
     "metadata": {},
     "output_type": "execute_result"
    }
   ],
   "source": [
    "def anagram_check(word1,word2):\n",
    "#     word1_check = word1.upper()\n",
    "#     word2_check = word2.upper()\n",
    "    word1_check = list(word1)\n",
    "    word2_check = list(word2)\n",
    "    word1_check.sort()#sorts inplace\n",
    "    word2_check.sort()#same for the second word\n",
    "    return (word1_check == word2_check)\n",
    "\n",
    "\n",
    "\n",
    "anagram_check('cat','Tca')"
   ]
  },
  {
   "cell_type": "code",
   "execution_count": null,
   "metadata": {},
   "outputs": [],
   "source": [
    "x='sashg3g2232323ghgj'"
   ]
  },
  {
   "cell_type": "code",
   "execution_count": 91,
   "metadata": {},
   "outputs": [
    {
     "name": "stdout",
     "output_type": "stream",
     "text": [
      "Enter the word to be checked: aaghgahaaaaayysyasya\n",
      "Type the character you want to replace the vowels: W\n",
      "The word now is: WWghgWhWWWWWyysyWsyW\n"
     ]
    }
   ],
   "source": [
    "word = input('Enter the word to be checked: ')\n",
    "vowels = ('a','e','i','o','u')\n",
    "character = input('Type the character you want to replace the vowels: ') # For number we would use int(input())\n",
    "for i in vowels:\n",
    "    word = word.replace(i,character)\n",
    "print('The word now is: ' + word)"
   ]
  },
  {
   "cell_type": "code",
   "execution_count": 90,
   "metadata": {},
   "outputs": [
    {
     "name": "stdout",
     "output_type": "stream",
     "text": [
      "Enter the word to be checked: sasaaasy\n",
      "Type the character you want to replace the vowles: q\n",
      "sqsqqqsy\n"
     ]
    }
   ],
   "source": [
    "word = input('Enter the word to be checked: ')\n",
    "vowels = ('a','e','i','o','u')\n",
    "character = input('Type the character you want to replace the vowles: ') # For number we would use int(input())\n",
    "for i in vowels:\n",
    "    word = word.replace(i,character)\n",
    "print(word)\n",
    "#print('The word now is: ' + word)"
   ]
  },
  {
   "cell_type": "code",
   "execution_count": 83,
   "metadata": {},
   "outputs": [
    {
     "name": "stdout",
     "output_type": "stream",
     "text": [
      "prZgrZmmZr\n"
     ]
    }
   ],
   "source": [
    "#1st way\n",
    "#As a program \n",
    "word = 'programmer'\n",
    "vowels = ('a','e','i','o','u')\n",
    "character = 'Z'\n",
    "for i in vowels:\n",
    "    word = word.replace(i,character)\n",
    "print(word)"
   ]
  },
  {
   "cell_type": "code",
   "execution_count": 82,
   "metadata": {},
   "outputs": [
    {
     "name": "stdout",
     "output_type": "stream",
     "text": [
      "bhsPPtytPxPbsPPPPPjh\n"
     ]
    }
   ],
   "source": [
    "a = 'bhsaetytexibsaaaaajh'\n",
    "vowels = ('a','e','i','o','u')\n",
    "ch = 'P'\n",
    "for i in vowels:\n",
    "    a = a.replace(i,ch)\n",
    "print(a)\n"
   ]
  },
  {
   "cell_type": "code",
   "execution_count": 78,
   "metadata": {},
   "outputs": [
    {
     "data": {
      "text/plain": [
       "'sDsDsDDwDcwDf'"
      ]
     },
     "execution_count": 78,
     "metadata": {},
     "output_type": "execute_result"
    }
   ],
   "source": [
    "def replace_vowel(word,character): #Gets two parameters, a word to be checked and a character to replace the vowels found\n",
    "    vowels = ('a','e','i','o','u')\n",
    "    for i in vowels: #Iterates\n",
    "        word = word.replace(i, character)\n",
    "    return word\n",
    "replace_vowel('sasasaewecwef','D')"
   ]
  },
  {
   "cell_type": "code",
   "execution_count": 77,
   "metadata": {},
   "outputs": [
    {
     "data": {
      "text/plain": [
       "'EsEsd'"
      ]
     },
     "execution_count": 77,
     "metadata": {},
     "output_type": "execute_result"
    }
   ],
   "source": [
    "def rs(word,cha):\n",
    "    vowels = ('a','e','i','o','u')\n",
    "    for vowel in vowels:\n",
    "        word = word.replace(vowel, cha)\n",
    "    return word\n",
    "\n",
    "\n",
    "rs('asasd','E')"
   ]
  },
  {
   "cell_type": "code",
   "execution_count": 75,
   "metadata": {},
   "outputs": [
    {
     "data": {
      "text/plain": [
       "'ZsZsd'"
      ]
     },
     "execution_count": 75,
     "metadata": {},
     "output_type": "execute_result"
    }
   ],
   "source": [
    "def rs(word):\n",
    "    vowels = ('a','e','i','o','u')\n",
    "    for vowel in vowels:\n",
    "        word = word.replace(vowel, 'Z')\n",
    "    return word\n",
    "\n",
    "\n",
    "rs('asasd')"
   ]
  },
  {
   "cell_type": "code",
   "execution_count": 73,
   "metadata": {},
   "outputs": [
    {
     "name": "stdout",
     "output_type": "stream",
     "text": [
      "uhasasihjhjh\n",
      "Z\n",
      "u\n",
      "['u']\n",
      "a\n",
      "['u', 'a']\n",
      "a\n",
      "['u', 'a', 'a']\n",
      "i\n",
      "['u', 'a', 'a', 'i']\n"
     ]
    }
   ],
   "source": [
    "word = input()\n",
    "character = input()\n",
    "vowels = ('a','e','i','o','u')\n",
    "list1 = []\n",
    "for i in word:\n",
    "    if i in vowels:\n",
    "        i.replace(i,character)\n",
    "        print(i)\n",
    "        list1.append(i)\n",
    "        print(list1)"
   ]
  },
  {
   "cell_type": "code",
   "execution_count": 54,
   "metadata": {},
   "outputs": [
    {
     "name": "stdout",
     "output_type": "stream",
     "text": [
      "[1, 2, 3]\n"
     ]
    }
   ],
   "source": [
    "str_lst = ['1', '2', '3']\n",
    " \n",
    " \n",
    " \n",
    "int_lst = [int(x) for x in str_lst]\n",
    " \n",
    " \n",
    " \n",
    "print (int_lst)"
   ]
  },
  {
   "cell_type": "code",
   "execution_count": 69,
   "metadata": {},
   "outputs": [
    {
     "data": {
      "text/plain": [
       "[43674, 8943748, 43434543]"
      ]
     },
     "execution_count": 69,
     "metadata": {},
     "output_type": "execute_result"
    }
   ],
   "source": [
    "terrain = '43674hdshsjh8943748dgsd43434543'\n",
    "\n",
    "terrain = re.split('[^0-9]', terrain)\n",
    "while '' in terrain:\n",
    "    terrain.remove('')\n",
    "#print(terrain)\n",
    "terrain = [int(x) for x in terrain]\n",
    "terrain\n",
    "#terrain = map(int, terrain)\n",
    "# for i in terrain:\n",
    "#     print(i)"
   ]
  },
  {
   "cell_type": "code",
   "execution_count": 61,
   "metadata": {},
   "outputs": [
    {
     "name": "stdout",
     "output_type": "stream",
     "text": [
      "43674\n"
     ]
    },
    {
     "ename": "ValueError",
     "evalue": "invalid literal for int() with base 10: ''",
     "output_type": "error",
     "traceback": [
      "\u001b[1;31m---------------------------------------------------------------------------\u001b[0m",
      "\u001b[1;31mValueError\u001b[0m                                Traceback (most recent call last)",
      "\u001b[1;32m<ipython-input-61-ee0ef5878473>\u001b[0m in \u001b[0;36m<module>\u001b[1;34m()\u001b[0m\n\u001b[0;32m      6\u001b[0m     \u001b[0mterrain\u001b[0m\u001b[1;33m.\u001b[0m\u001b[0mremove\u001b[0m\u001b[1;33m(\u001b[0m\u001b[1;34m''\u001b[0m\u001b[1;33m)\u001b[0m\u001b[1;33m\u001b[0m\u001b[0m\n\u001b[0;32m      7\u001b[0m     \u001b[0mterrain\u001b[0m \u001b[1;33m=\u001b[0m \u001b[0mmap\u001b[0m\u001b[1;33m(\u001b[0m\u001b[0mint\u001b[0m\u001b[1;33m,\u001b[0m \u001b[0mterrain\u001b[0m\u001b[1;33m)\u001b[0m\u001b[1;33m\u001b[0m\u001b[0m\n\u001b[1;32m----> 8\u001b[1;33m     \u001b[1;32mfor\u001b[0m \u001b[0mi\u001b[0m \u001b[1;32min\u001b[0m \u001b[0mterrain\u001b[0m\u001b[1;33m:\u001b[0m\u001b[1;33m\u001b[0m\u001b[0m\n\u001b[0m\u001b[0;32m      9\u001b[0m         \u001b[0mprint\u001b[0m\u001b[1;33m(\u001b[0m\u001b[0mi\u001b[0m\u001b[1;33m)\u001b[0m\u001b[1;33m\u001b[0m\u001b[0m\n",
      "\u001b[1;31mValueError\u001b[0m: invalid literal for int() with base 10: ''"
     ]
    }
   ],
   "source": [
    "terrain = '43674hdshsjh8943748dgsd43434543'\n",
    "#f = (filename)\n",
    "#terrain = f.readline()\n",
    "terrain = re.split('[^0-9]', terrain)\n",
    "while '' in terrain:\n",
    "    terrain.remove('')\n",
    "    terrain = map(int, terrain)\n",
    "    for i in terrain:\n",
    "        print(i)"
   ]
  },
  {
   "cell_type": "code",
   "execution_count": null,
   "metadata": {},
   "outputs": [],
   "source": [
    "\n",
    "def func(filename):\n",
    "    f = open(filename)\n",
    "    terrain = f.readline()\n",
    "    terrain = re.split('[^0-9]', terrain)\n",
    "    while '' in terrain:\n",
    "        terrain.remove('')\n",
    "    terrain = map(int, terrain)\n",
    "    return terrain\n",
    "\n",
    "\n",
    "\n",
    "func('')"
   ]
  },
  {
   "cell_type": "code",
   "execution_count": 42,
   "metadata": {},
   "outputs": [
    {
     "name": "stdout",
     "output_type": "stream",
     "text": [
      "['13434', 'dfd', '34', '']\n",
      "['13434', 'dfd', '34']\n"
     ]
    }
   ],
   "source": [
    "terrain = '13434dfd34'\n",
    "\n",
    "terrain = re.split(r'(\\d+)', terrain)\n",
    "terrain\n",
    "while '' in terrain:\n",
    "        terrain.remove('')\n",
    "        print(terrain)"
   ]
  },
  {
   "cell_type": "code",
   "execution_count": 46,
   "metadata": {},
   "outputs": [],
   "source": [
    "terrain = '13434xzx34'\n",
    "terrain = re.split('[^0-9]', terrain)\n",
    "#terrain\n",
    "x=[]\n",
    "while '' in terrain:\n",
    "        terrain.remove('')\n",
    "        x.append(terrain)"
   ]
  },
  {
   "cell_type": "code",
   "execution_count": 47,
   "metadata": {},
   "outputs": [
    {
     "data": {
      "text/plain": [
       "[['13434', '34'], ['13434', '34']]"
      ]
     },
     "execution_count": 47,
     "metadata": {},
     "output_type": "execute_result"
    }
   ],
   "source": [
    "x"
   ]
  },
  {
   "cell_type": "code",
   "execution_count": 25,
   "metadata": {},
   "outputs": [
    {
     "name": "stdout",
     "output_type": "stream",
     "text": [
      "['1', '3', '5']\n"
     ]
    }
   ],
   "source": [
    "terrain = ['1','3','','5']\n",
    "\n",
    "while '' in terrain:\n",
    "        terrain.remove('')\n",
    "        print(terrain)"
   ]
  },
  {
   "cell_type": "code",
   "execution_count": 31,
   "metadata": {},
   "outputs": [
    {
     "name": "stdout",
     "output_type": "stream",
     "text": [
      "['1', '3', '57']\n"
     ]
    }
   ],
   "source": [
    "terrain = ['1','3','','57']\n",
    "# terrain = map(int, terrain)\n",
    "# for i in (terrain):\n",
    "#     print(i)\n",
    "\n",
    "\n",
    "\n",
    "\n",
    "while '' in terrain:\n",
    "        terrain.remove('')\n",
    "        print(terrain)"
   ]
  },
  {
   "cell_type": "code",
   "execution_count": 17,
   "metadata": {},
   "outputs": [
    {
     "name": "stdout",
     "output_type": "stream",
     "text": [
      "<map object at 0x0000016A6BE8DC18>\n"
     ]
    },
    {
     "data": {
      "text/plain": [
       "<map at 0x16a6be8dc18>"
      ]
     },
     "execution_count": 17,
     "metadata": {},
     "output_type": "execute_result"
    }
   ],
   "source": [
    "import re\n",
    "def func(filename):\n",
    "    #f = open(filename)\n",
    "   # terrain = f.readline()\n",
    "    terrain = re.split('[^0-9]', filename)\n",
    "    while '' in terrain:\n",
    "        terrain.remove('')\n",
    "    terrain = map(int, terrain)\n",
    "    print(terrain)\n",
    "    return terrain\n",
    "\n",
    "a ='2'\n",
    "func(a)"
   ]
  },
  {
   "cell_type": "code",
   "execution_count": 4,
   "metadata": {},
   "outputs": [],
   "source": [
    "li= []\n",
    "for i in range(1,101):\n",
    "    if i%2 == 0:\n",
    "        li.append(i)"
   ]
  },
  {
   "cell_type": "code",
   "execution_count": 5,
   "metadata": {},
   "outputs": [
    {
     "data": {
      "text/plain": [
       "[2,\n",
       " 4,\n",
       " 6,\n",
       " 8,\n",
       " 10,\n",
       " 12,\n",
       " 14,\n",
       " 16,\n",
       " 18,\n",
       " 20,\n",
       " 22,\n",
       " 24,\n",
       " 26,\n",
       " 28,\n",
       " 30,\n",
       " 32,\n",
       " 34,\n",
       " 36,\n",
       " 38,\n",
       " 40,\n",
       " 42,\n",
       " 44,\n",
       " 46,\n",
       " 48,\n",
       " 50,\n",
       " 52,\n",
       " 54,\n",
       " 56,\n",
       " 58,\n",
       " 60,\n",
       " 62,\n",
       " 64,\n",
       " 66,\n",
       " 68,\n",
       " 70,\n",
       " 72,\n",
       " 74,\n",
       " 76,\n",
       " 78,\n",
       " 80,\n",
       " 82,\n",
       " 84,\n",
       " 86,\n",
       " 88,\n",
       " 90,\n",
       " 92,\n",
       " 94,\n",
       " 96,\n",
       " 98,\n",
       " 100]"
      ]
     },
     "execution_count": 5,
     "metadata": {},
     "output_type": "execute_result"
    }
   ],
   "source": [
    "li"
   ]
  },
  {
   "cell_type": "code",
   "execution_count": 3,
   "metadata": {},
   "outputs": [
    {
     "name": "stdout",
     "output_type": "stream",
     "text": [
      "1\n",
      "2\n",
      "3\n",
      "4\n",
      "5\n",
      "6\n",
      "7\n",
      "8\n",
      "9\n",
      "10\n",
      "11\n",
      "12\n",
      "13\n",
      "14\n",
      "15\n",
      "16\n",
      "17\n",
      "18\n",
      "19\n",
      "20\n",
      "21\n",
      "22\n",
      "23\n",
      "24\n",
      "25\n",
      "26\n",
      "27\n",
      "28\n",
      "29\n",
      "30\n",
      "31\n",
      "32\n",
      "33\n",
      "34\n",
      "35\n",
      "36\n",
      "37\n",
      "38\n",
      "39\n",
      "40\n",
      "41\n",
      "42\n",
      "43\n",
      "44\n",
      "45\n",
      "46\n",
      "47\n",
      "48\n",
      "49\n",
      "50\n",
      "51\n",
      "52\n",
      "53\n",
      "54\n",
      "55\n",
      "56\n",
      "57\n",
      "58\n",
      "59\n",
      "60\n",
      "61\n",
      "62\n",
      "63\n",
      "64\n",
      "65\n",
      "66\n",
      "67\n",
      "68\n",
      "69\n",
      "70\n",
      "71\n",
      "72\n",
      "73\n",
      "74\n",
      "75\n",
      "76\n",
      "77\n",
      "78\n",
      "79\n",
      "80\n",
      "81\n",
      "82\n",
      "83\n",
      "84\n",
      "85\n",
      "86\n",
      "87\n",
      "88\n",
      "89\n",
      "90\n",
      "91\n",
      "92\n",
      "93\n",
      "94\n",
      "95\n",
      "96\n",
      "97\n",
      "98\n",
      "99\n",
      "100\n"
     ]
    }
   ],
   "source": [
    "for i in range(1,101):\n",
    "    print(i)"
   ]
  }
 ],
 "metadata": {
  "kernelspec": {
   "display_name": "Python 3",
   "language": "python",
   "name": "python3"
  },
  "language_info": {
   "codemirror_mode": {
    "name": "ipython",
    "version": 3
   },
   "file_extension": ".py",
   "mimetype": "text/x-python",
   "name": "python",
   "nbconvert_exporter": "python",
   "pygments_lexer": "ipython3",
   "version": "3.6.5"
  }
 },
 "nbformat": 4,
 "nbformat_minor": 2
}
